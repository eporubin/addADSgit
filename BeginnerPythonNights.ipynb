{
  "nbformat": 4,
  "nbformat_minor": 0,
  "metadata": {
    "colab": {
      "provenance": [],
      "include_colab_link": true
    },
    "kernelspec": {
      "name": "python3",
      "display_name": "Python 3"
    },
    "language_info": {
      "name": "python"
    }
  },
  "cells": [
    {
      "cell_type": "markdown",
      "metadata": {
        "id": "view-in-github",
        "colab_type": "text"
      },
      "source": [
        "<a href=\"https://colab.research.google.com/github/eporubin/addADSgit/blob/main/BeginnerPythonNights.ipynb\" target=\"_parent\"><img src=\"https://colab.research.google.com/assets/colab-badge.svg\" alt=\"Open In Colab\"/></a>"
      ]
    },
    {
      "cell_type": "markdown",
      "source": [
        "## Welcome to Beginner Python Nights!\n",
        "\n",
        "Today we will cover:\n",
        "\n",
        "- Variables\n",
        "- Data Structures\n",
        "- Functions\n",
        "- If-Else Logic\n",
        "\n"
      ],
      "metadata": {
        "id": "TOGEmSN29Pt4"
      }
    },
    {
      "cell_type": "markdown",
      "source": [
        "## Using Collab Notebooks\n",
        "\n",
        "- Colab notebooks are split up into cells that can have multiple lines of code.\n",
        "\n",
        "- To run the code in each cell, press Shift+Enter from the cell.\n",
        "\n",
        "- All the lines of code in the cell will executed.\n",
        "\n",
        "- The output of the final cell will always be printed.\n",
        "\n",
        "- **Comments:** Lines that start with `#` are comments - they are not executed. Used for notes and explanations."
      ],
      "metadata": {
        "id": "wSdjmIeHRODD"
      }
    },
    {
      "cell_type": "markdown",
      "source": [
        "# Part 1"
      ],
      "metadata": {
        "id": "r7gJRqlGT8RI"
      }
    },
    {
      "cell_type": "code",
      "source": [
        "print(\"Hello World\")"
      ],
      "metadata": {
        "id": "RlxL-mUV9hHe",
        "outputId": "62524460-d5a5-4e42-c745-68cf8ee04bf4",
        "colab": {
          "base_uri": "https://localhost:8080/"
        }
      },
      "execution_count": 1,
      "outputs": [
        {
          "output_type": "stream",
          "name": "stdout",
          "text": [
            "Hello World\n"
          ]
        }
      ]
    },
    {
      "cell_type": "code",
      "source": [
        " # To see the result of any line, use the 'print' function.\n",
        " print(6 + 5)\n",
        " print(6 - 5)\n",
        " print(6 * 5)\n",
        " print(6 / 5)"
      ],
      "metadata": {
        "id": "Ah30IQlD9jsE"
      },
      "execution_count": null,
      "outputs": []
    },
    {
      "cell_type": "code",
      "source": [
        "print( ENTER SOMETHING HERE)"
      ],
      "metadata": {
        "id": "Bj-2GJlB5yD-"
      },
      "execution_count": null,
      "outputs": []
    },
    {
      "cell_type": "code",
      "source": [
        "# Strings can be added together like numbers\n",
        "\"Hello \" + \"World\""
      ],
      "metadata": {
        "id": "s0pbtWYu_BW5"
      },
      "execution_count": null,
      "outputs": []
    },
    {
      "cell_type": "markdown",
      "source": [
        "## Key Terms\n",
        "\n",
        "**Object**\n",
        "\n",
        "Objects are the \"things\" that you work with: `Hello World` and 11 are both objects\n",
        "\n",
        "**Types**\n",
        "\n",
        "All objects have a 'type':\n",
        "\n",
        "- The **type** of \"Hello World\" is **str** (String aka text).\n",
        "- The **type** of 11 is the class **int** (Integer)\n",
        "- The **type** of 10.55 is the class **float** (Floating Point Number - basically any decimal number)\n",
        "\n",
        "\n",
        "A type let's the Python interpreter/engine know what can be done with an object. Different classes have different allowed operations (e.g. you can't 'divide' strings but you can divide ints)\n",
        "\n",
        "\n",
        "Strings, integers and floats are \"primitive\" classes. In practice, developers will use more objects that capture anything ranging from a file to a \"Machine Learning Model\" to a \"Person\".\n",
        "\n",
        "Note on strings: Strings can be wrapped in single (') or double (\") quotes\n"
      ],
      "metadata": {
        "id": "afMpeDKJ-Up3"
      }
    },
    {
      "cell_type": "code",
      "source": [
        "type(\"Hello World\")"
      ],
      "metadata": {
        "id": "rRoMWp6MT_6n"
      },
      "execution_count": null,
      "outputs": []
    },
    {
      "cell_type": "code",
      "source": [
        "type(10.00002)"
      ],
      "metadata": {
        "id": "82sxoJCKKJyT"
      },
      "execution_count": null,
      "outputs": []
    },
    {
      "cell_type": "markdown",
      "source": [
        "## Variables\n",
        "\n",
        "- **Variables** let you store references to objects.\n",
        "\n",
        "**Why Variables?**\n",
        "\n",
        "- They let you refer to the same object multiple times throughout your code\n",
        "\n",
        "- When the object is of a complex type (e.g. an ML Model), there may not be a way to \"type it out\" each time you use it. Variables store a pointer to the object.\n",
        "\n",
        "- In certain contexts, we may not know what the exact value of something is - variables are a way to work with the object anyway\n",
        "\n",
        "**Usage**\n",
        "\n",
        "Once you define a **variable**, it will be available in the whole notebook.\n",
        "\n",
        "Defined using the syntax:\n",
        "\n",
        "```\n",
        "variable_name = object\n",
        "```\n",
        "\n",
        "The **variable** name can be anything that follows the rules:\n",
        "\n",
        "1. Starts with a lowercase or uppercase letter\n",
        "2. Only contains letters, numbers and '_' characters\n",
        "\n",
        "Note: Try to give **variables** descriptive names to make code readable and remember what things mean"
      ],
      "metadata": {
        "id": "2GD-2eniADE8"
      }
    },
    {
      "cell_type": "code",
      "source": [
        "name = \"Anastassia\""
      ],
      "metadata": {
        "id": "tqiJAa6vACcz"
      },
      "execution_count": null,
      "outputs": []
    },
    {
      "cell_type": "code",
      "source": [
        "# New cell - variable still exists\n",
        "print(name)"
      ],
      "metadata": {
        "id": "Oi4JY8iPA658"
      },
      "execution_count": null,
      "outputs": []
    },
    {
      "cell_type": "code",
      "source": [
        "# Variables let yoy work with the same thing multiple times\n",
        "print(name + \" is a cool person!\")"
      ],
      "metadata": {
        "id": "-8Z-p5WTFJdN"
      },
      "execution_count": null,
      "outputs": []
    },
    {
      "cell_type": "code",
      "source": [
        "# A variable can be given a new value\n",
        "name = \"Elizabeth\""
      ],
      "metadata": {
        "id": "gBBgOzMA8xnv"
      },
      "execution_count": null,
      "outputs": []
    },
    {
      "cell_type": "code",
      "source": [
        "print(name + \" is a cool person!\")"
      ],
      "metadata": {
        "id": "BwqBRXMG87nE"
      },
      "execution_count": null,
      "outputs": []
    },
    {
      "cell_type": "code",
      "source": [
        "# A cell can contain multiple lines of code\n",
        "new_var = name + \" loves Python\"\n",
        "\n",
        "print(new_var)"
      ],
      "metadata": {
        "id": "9XwiEYCVA-j_"
      },
      "execution_count": null,
      "outputs": []
    },
    {
      "cell_type": "markdown",
      "source": [
        "## Exercise 0: Let's Add!\n",
        "\n",
        "1. Define the variable that stores the int `5`\n",
        "2. Define a second variable that stores the int `10`\n",
        "3. Define a third variable `my_sum` that stores their sum"
      ],
      "metadata": {
        "id": "Jx935SxsH_9w"
      }
    },
    {
      "cell_type": "code",
      "source": [
        "# Code Away!\n",
        "\n",
        "var1 =\n",
        "\n",
        "\n"
      ],
      "metadata": {
        "id": "V1TlnDcZBTRY"
      },
      "execution_count": null,
      "outputs": []
    },
    {
      "cell_type": "code",
      "source": [
        "print(my_sum)"
      ],
      "metadata": {
        "id": "lY9btlWmUGIO"
      },
      "execution_count": null,
      "outputs": []
    },
    {
      "cell_type": "markdown",
      "source": [
        "## Data Structures\n",
        "\n",
        "Variables are useful - but we often work with a large number of objects AND need a way to organize them.\n",
        "\n",
        "Data Structures store a collection of objects in different ways.\n",
        "\n",
        "- list : ordered collection of objects\n",
        "\n",
        "You can access values using the `list[index]` syntax. Objects in Python are zero-indexed -> the first object is at position 0.\n",
        "\n",
        "Python has a length function that returns the length of a list: `len(List)`\n",
        "\n",
        "(Explore later: sets and dicts)"
      ],
      "metadata": {
        "id": "eeOExgWL_U5T"
      }
    },
    {
      "cell_type": "code",
      "source": [
        "# my_favorite_numbers is a variable that contains a list\n",
        "my_favorite_numbers = [30, 3.1415, 12321, 100, 42]"
      ],
      "metadata": {
        "id": "PUgNh0Jm_F14"
      },
      "execution_count": null,
      "outputs": []
    },
    {
      "cell_type": "code",
      "source": [
        "len(my_favorite_numbers)"
      ],
      "metadata": {
        "id": "akG-shwfEho4"
      },
      "execution_count": null,
      "outputs": []
    },
    {
      "cell_type": "code",
      "source": [
        "print(my_favorite_numbers[0])"
      ],
      "metadata": {
        "id": "OFdfPU_P_1Ww"
      },
      "execution_count": null,
      "outputs": []
    },
    {
      "cell_type": "code",
      "source": [
        "print(my_favorite_numbers[2])"
      ],
      "metadata": {
        "id": "gPX6-NPO_2R6"
      },
      "execution_count": null,
      "outputs": []
    },
    {
      "cell_type": "code",
      "source": [
        "# Example of an error - accessing an out of bounds index\n",
        "print(my_favorite_numbers[5])"
      ],
      "metadata": {
        "id": "Dqmu6vds_604"
      },
      "execution_count": null,
      "outputs": []
    },
    {
      "cell_type": "markdown",
      "source": [
        "## Exercise 1\n",
        "\n",
        "Compute the average of the numbers in `my_numbers` and save them to the variable `average`"
      ],
      "metadata": {
        "id": "uJJtQorsB2dM"
      }
    },
    {
      "cell_type": "code",
      "source": [
        "my_list = [15, 10, 4]\n",
        "\n",
        "# Step 1: Get the sum of the numbers by accessing the numbers at each index\n",
        "\n",
        "sum = First item in my_list + Second item in my_list + Third item in my_list\n",
        "\n",
        "# Step 2: Create the variable average by dividing the sum by the lenght of the list\n",
        "\n"
      ],
      "metadata": {
        "id": "BJN3GMp3__1x"
      },
      "execution_count": null,
      "outputs": []
    },
    {
      "cell_type": "code",
      "source": [
        "# Test your output\n",
        "print(average)"
      ],
      "metadata": {
        "id": "wXrQZq6sFVJW"
      },
      "execution_count": null,
      "outputs": []
    },
    {
      "cell_type": "markdown",
      "source": [
        "## Functions\n",
        "\n",
        "- Functions are core building block of Python that let you run code multiple times with different inputs.\n",
        "\n",
        "- Functions let you re-use the same code without copy-pasting.\n",
        "\n",
        "- Once a function is defined, it can be used anywhere in the file.\n",
        "\n",
        "- Functions can be called from inside of other functions"
      ],
      "metadata": {
        "id": "saVgtTuDKlY9"
      }
    },
    {
      "cell_type": "code",
      "source": [
        "def add_two_numbers(num1, num2):\n",
        "  result = num1 + num2\n",
        "  return result"
      ],
      "metadata": {
        "id": "wkpxFZaqOedw"
      },
      "execution_count": null,
      "outputs": []
    },
    {
      "cell_type": "code",
      "source": [
        "add_two_numbers(2, 4)"
      ],
      "metadata": {
        "id": "R8wQ13vXOkPJ"
      },
      "execution_count": null,
      "outputs": []
    },
    {
      "cell_type": "code",
      "source": [
        "add_two_numbers(3, 8)"
      ],
      "metadata": {
        "id": "8QLWL0BhOmN8"
      },
      "execution_count": null,
      "outputs": []
    },
    {
      "cell_type": "markdown",
      "source": [
        "### Function Syntax\n",
        "\n",
        "\n",
        "**Definition**\n",
        "\n",
        "```\n",
        "def add_two_numbers(inputs):\n",
        "```\n",
        "\n",
        "1. Always starts with `def`\n",
        "2. function_name: same rules as variables\n",
        "3. inputs: comma separated list of 0 or more variables\n",
        "4. End with a colon\n",
        "\n",
        "**Content**\n",
        "\n",
        "- Tab or Whitespace-indented lines of code\n",
        "- Different levels of indents let Python know the context\n",
        "\n",
        "```\n",
        "def function():\n",
        "  Inside\n",
        "  Inside\n",
        "  Inside\n",
        "\n",
        "Outside - no longer in the function\n",
        "```\n",
        "\n",
        "\n",
        "**Return**\n",
        "\n",
        "- Last line starts with `return`\n",
        "- Content after `return` is output\n",
        "- Note: This is optional - some functions do not return anything\n"
      ],
      "metadata": {
        "id": "QZE-MMi0Oo8O"
      }
    },
    {
      "cell_type": "code",
      "source": [
        "# Example of in vs not-in function\n",
        "\n",
        "print(\"Not in the function\")\n",
        "\n",
        "def add_two_numbers(num1, num2):\n",
        "    result = num1 + num2\n",
        "    print(\"In the Function\")\n",
        "    return result\n",
        "\n",
        "print(\"Now...not in the function\")\n"
      ],
      "metadata": {
        "id": "uDrxCiGZOoTF"
      },
      "execution_count": null,
      "outputs": []
    },
    {
      "cell_type": "code",
      "source": [
        "add_two_numbers(10, 10)"
      ],
      "metadata": {
        "id": "VqBlIcsuQa9V"
      },
      "execution_count": null,
      "outputs": []
    },
    {
      "cell_type": "markdown",
      "source": [
        "## Exercise 2\n",
        "\n",
        "Define a function that returns a greeting called `make_greeting`\n",
        "\n",
        "- Input: `name`\n",
        "\n",
        "- Output: Hello `name` !!"
      ],
      "metadata": {
        "id": "qzS_CTUjQj-L"
      }
    },
    {
      "cell_type": "code",
      "source": [
        "## your function here\n",
        "\n",
        "function definition ...\n",
        "   do something to the input\n",
        "   return the greeting\n"
      ],
      "metadata": {
        "id": "8s3WRoX3Qc8v"
      },
      "execution_count": null,
      "outputs": []
    },
    {
      "cell_type": "code",
      "source": [
        "make_greeting(\"Anastassia\")"
      ],
      "metadata": {
        "id": "6-zXtUQ1Q3iY"
      },
      "execution_count": null,
      "outputs": []
    },
    {
      "cell_type": "markdown",
      "source": [
        "# Part 2"
      ],
      "metadata": {
        "id": "7nX-QrV5TQ75"
      }
    },
    {
      "cell_type": "markdown",
      "source": [
        "## Testing for conditions\n",
        "\n",
        "Python allows you to test if something is true.\n",
        "\n",
        "The bool (Boolean) is a special **type** that has two values True and False."
      ],
      "metadata": {
        "id": "W09NP4uBWlFo"
      }
    },
    {
      "cell_type": "code",
      "source": [
        "True"
      ],
      "metadata": {
        "id": "KI9OqpMyWzt4"
      },
      "execution_count": null,
      "outputs": []
    },
    {
      "cell_type": "code",
      "source": [
        "type(True)"
      ],
      "metadata": {
        "id": "-LaFn-xUWzwb"
      },
      "execution_count": null,
      "outputs": []
    },
    {
      "cell_type": "markdown",
      "source": [
        "Common tests for conditions:\n",
        "\n",
        "- Testing equality: `VAR1 == VAR2` - must use two == (equals signs). If you use just one, you will be defining a variable (like in the previous sections)!\n",
        "- Comparing numbers\n",
        "- Membership in list: `VAR in LIST`"
      ],
      "metadata": {
        "id": "FacBgUREW3YX"
      }
    },
    {
      "cell_type": "code",
      "source": [
        "# Defining a variables\n",
        "var = \"Cat\"\n",
        "\n",
        "# Equality test\n",
        "var == \"Cat\""
      ],
      "metadata": {
        "id": "C-oKoFu7W2Jb"
      },
      "execution_count": null,
      "outputs": []
    },
    {
      "cell_type": "code",
      "source": [
        "var == \"Dog\""
      ],
      "metadata": {
        "id": "6pOo_AhkXG2Q"
      },
      "execution_count": null,
      "outputs": []
    },
    {
      "cell_type": "code",
      "source": [
        "# Comparing numbers\n",
        "5 > 10"
      ],
      "metadata": {
        "id": "sRiU1wklXGss"
      },
      "execution_count": null,
      "outputs": []
    },
    {
      "cell_type": "code",
      "source": [
        "# Comparing numbers\n",
        "5 < 10"
      ],
      "metadata": {
        "id": "UKDQ9FE-XRBM"
      },
      "execution_count": null,
      "outputs": []
    },
    {
      "cell_type": "code",
      "source": [
        "# List membership\n",
        "\n",
        "my_list = [\"cats\", \"dogs\"]\n",
        "\n",
        "\"cats\" in my_list"
      ],
      "metadata": {
        "id": "VniKoXImXSNv"
      },
      "execution_count": null,
      "outputs": []
    },
    {
      "cell_type": "code",
      "source": [
        "\"birds\" in my_list"
      ],
      "metadata": {
        "id": "VoQ7OELWXaMT"
      },
      "execution_count": null,
      "outputs": []
    },
    {
      "cell_type": "code",
      "source": [
        "# Your turn - try out some equality tests"
      ],
      "metadata": {
        "id": "xVS41qVLMqxW"
      },
      "execution_count": null,
      "outputs": []
    },
    {
      "cell_type": "code",
      "source": [],
      "metadata": {
        "id": "WueIwRH3Mqkq"
      },
      "execution_count": null,
      "outputs": []
    },
    {
      "cell_type": "markdown",
      "source": [
        "## If-Else Logic\n",
        "\n",
        "Python allows you to execute only a subset of your code based on a condition.\n"
      ],
      "metadata": {
        "id": "qXRp-UpJUlit"
      }
    },
    {
      "cell_type": "code",
      "source": [
        "num = 20\n",
        "\n",
        "print(\"Before the condition\")\n",
        "if num > 0:\n",
        "    print(\">> number is greater than 0\")\n",
        "print(\"After the condition\")"
      ],
      "metadata": {
        "id": "tj60qYOFTN8R"
      },
      "execution_count": null,
      "outputs": []
    },
    {
      "cell_type": "code",
      "source": [
        "num = -1\n",
        "\n",
        "print(\"Before the condition\")\n",
        "if num > 0:\n",
        "    print(\"number is greater than 0\")\n",
        "print(\"After the condition\")"
      ],
      "metadata": {
        "id": "uxGXLBbFVZzm"
      },
      "execution_count": null,
      "outputs": []
    },
    {
      "cell_type": "code",
      "source": [
        "num = -1\n",
        "\n",
        "if num > 0:\n",
        "    print(\"number is greater than 0\")\n",
        "else:\n",
        "    print(\"number is less than or equal to 0\")"
      ],
      "metadata": {
        "id": "J4-N_TNuVc8C"
      },
      "execution_count": null,
      "outputs": []
    },
    {
      "cell_type": "markdown",
      "source": [
        "**The syntax:**\n",
        "\n",
        "```\n",
        "if CONDITION:\n",
        "    EXECUTE_THIS\n",
        "else:\n",
        "    EXECUTE_THAT\n",
        "```\n",
        "\n",
        "Can have more than 2 paths:"
      ],
      "metadata": {
        "id": "vrpifrHNVmnr"
      }
    },
    {
      "cell_type": "code",
      "source": [
        "num = -1\n",
        "\n",
        "if num > 0:\n",
        "    print(\"Number is greater than 0\")\n",
        "elif num == 0:\n",
        "    print(\"Number is exactly 0\")\n",
        "else:\n",
        "    print(\"Number is less than 0\")"
      ],
      "metadata": {
        "id": "_MYf8LA_Vg4Q"
      },
      "execution_count": null,
      "outputs": []
    },
    {
      "cell_type": "markdown",
      "source": [
        "## Exercise 3\n",
        "\n",
        "Write a function named `go_to_work` that states if you should go to work:\n",
        "\n",
        "- If it is a weekday, return \"Go to work\"\n",
        "- If it is the weekend, return \"No Work!!\"\n",
        "- If its an unknown input, return \"Unknown Day\"\n",
        "\n",
        "Use the lists of days provided"
      ],
      "metadata": {
        "id": "srF75jiWWHFk"
      }
    },
    {
      "cell_type": "code",
      "source": [
        "## Your code here\n",
        "week_days = [\"Monday\", \"Tuesday\", \"Wednesday\", \"Thursday\", \"Friday\"]\n",
        "weekend_days = [\"Saturday\", \"Sunday\"]\n",
        "\n",
        "\n",
        "FUNCTION NAME - FUNCTION INPUT\n",
        "\n",
        "    # IF it is a day - return Go to Work\n",
        "\n",
        "    # ELIF it is a weekend return No Work\n",
        "\n",
        "    # ELSE return Unknown Day\n"
      ],
      "metadata": {
        "id": "RdTbEvo1X732"
      },
      "execution_count": null,
      "outputs": []
    },
    {
      "cell_type": "code",
      "source": [
        "go_to_work(\"Saturday\")"
      ],
      "metadata": {
        "id": "3N60wG9wYQUe"
      },
      "execution_count": null,
      "outputs": []
    },
    {
      "cell_type": "code",
      "source": [
        "go_to_work(\"Tuesday\")"
      ],
      "metadata": {
        "id": "1Ve2TewSYNMC"
      },
      "execution_count": null,
      "outputs": []
    },
    {
      "cell_type": "code",
      "source": [
        "go_to_work(\"Christmas\")"
      ],
      "metadata": {
        "id": "R1bp2q5rYKou"
      },
      "execution_count": null,
      "outputs": []
    },
    {
      "cell_type": "markdown",
      "source": [
        "# Putting it together: Wordle Checker\n",
        "\n",
        "In this Notebook we covered a lot of concepts! The World Checker is a challenging exercise that uses all of them together.\n",
        "\n",
        "\n",
        "[Wordle](https://www.nytimes.com/games/wordle/index.html) is a game where the goal is to guess a 5-letter word in 6 tries. On each try, you get feedback based on how close your answer is to the correct word.\n",
        "\n",
        "Let's write a function that returns feedback on a `guess_word` given the `secret_word`.\n",
        "\n",
        "The outer function is written - your goal is to write the \"letter\" check.\n",
        "\n",
        "Given a `letter`, `position` and `secret_word`, return:\n",
        "\n",
        "- \"GREEN\": If the letter is in the word and in the correct position\n",
        "- \"YELLOW\": If the letter is in the word BUT in a different position\n",
        "- \"GREY\": If the letter is NOT in the word\n",
        "\n",
        "\n",
        "\n",
        "**Examples**\n",
        "\n",
        "`letter_checker('A', 2, 'PLANE')` --> \"GREEN\"\n",
        "\n",
        "`letter_checker('A', 0, 'PLANE')` --> \"YELLOW\"\n",
        "\n",
        "`letter_checker('Y', 0, 'PLANE')` --> \"GREY\"\n",
        "\n",
        "**HINT**\n",
        "\n",
        "You can reference characters in a string the same way as things in a list: `\"cats\"[2]`"
      ],
      "metadata": {
        "id": "XXMD0LFIYas4"
      }
    },
    {
      "cell_type": "code",
      "source": [
        "# HINT: You can reference characters in a string the same way as things in a list:\n",
        "\"cats\"[2]"
      ],
      "metadata": {
        "id": "ks-ZUasofANa"
      },
      "execution_count": null,
      "outputs": []
    },
    {
      "cell_type": "code",
      "source": [
        "def letter_checker(letter, position, secret_word):\n",
        "    # letter: a character (e.g. 'A', 'B' )\n",
        "    # position: the position of the character - 0-indexed\n",
        "    # secret_word: a 5 letter word (e.g. 'RADIO')"
      ],
      "metadata": {
        "id": "zQ3UJS59YdPD"
      },
      "execution_count": null,
      "outputs": []
    },
    {
      "cell_type": "code",
      "source": [
        "# Tests\n",
        "print(letter_checker('A', 0, 'PLANE') == \"YELLOW\")"
      ],
      "metadata": {
        "id": "A7DwQStLeQoF"
      },
      "execution_count": null,
      "outputs": []
    },
    {
      "cell_type": "code",
      "source": [
        "print(letter_checker('A', 2, 'PLANE') == \"GREEN\")\n"
      ],
      "metadata": {
        "id": "JMJM7V3mefUd"
      },
      "execution_count": null,
      "outputs": []
    },
    {
      "cell_type": "code",
      "source": [
        "print(letter_checker('Y', 0, 'PLANE') == \"GREY\")\n"
      ],
      "metadata": {
        "id": "MQY6MhVTefbd"
      },
      "execution_count": null,
      "outputs": []
    },
    {
      "cell_type": "markdown",
      "source": [
        "The next section contains everything you need to play a whole game of Wordle. It contains concepts that go beyond today's lesson, study them at your own pace.\n",
        "\n",
        "The next cell contains a function that let's you check the whole word - it uses a \"for loop\". Loops let you execute the same code multiple times."
      ],
      "metadata": {
        "id": "cWmy79jQPb6A"
      }
    },
    {
      "cell_type": "code",
      "source": [
        "# Preview of For Loops + List functions\n",
        "def word_checker(guess_word, secret_word):\n",
        "    output = []\n",
        "    for i in range(5):\n",
        "        cur_letter = letter_checker(guess_word[i], i, secret_word)\n",
        "        output.append(cur_letter)\n",
        "    return output"
      ],
      "metadata": {
        "id": "k427_FysdqMq"
      },
      "execution_count": null,
      "outputs": []
    },
    {
      "cell_type": "code",
      "source": [
        "word_checker(\"WEARY\", \"VAGUE\")"
      ],
      "metadata": {
        "id": "C5fGc4_LewO4"
      },
      "execution_count": null,
      "outputs": []
    },
    {
      "cell_type": "markdown",
      "source": [],
      "metadata": {
        "id": "XAEhD2d5Ppx-"
      }
    },
    {
      "cell_type": "code",
      "source": [
        "# Play the game - and see a lot more syntax\n",
        "secret_word = \"CODER\"\n",
        "\n",
        "victory = False\n",
        "for try_num in range(6): # For Loops\n",
        "    cur_guess = input(\"Enter Guess: \")\n",
        "    if cur_guess == secret_word:\n",
        "        print(\"You Won!!\")\n",
        "        victory = True\n",
        "        break # Leave the loop\n",
        "\n",
        "    result = word_checker(cur_guess, secret_word)\n",
        "\n",
        "    user_result = [(cur_guess[idx], result[idx]) for idx in range(5)] # list comprehension\n",
        "    print(user_result)\n",
        "    print(\"------\")\n",
        "\n",
        "if not victory:\n",
        "    print(\"Out of turns -- Better Luck Next Time\")"
      ],
      "metadata": {
        "id": "OcdwgAWdghVK"
      },
      "execution_count": null,
      "outputs": []
    },
    {
      "cell_type": "markdown",
      "source": [
        "# Where to go from here?\n",
        "\n",
        "Answer Key for Today's event: https://colab.research.google.com/drive/18-JT1Gcf1NPKpFFjNPSJ2M5HqdEcRa9a?usp=sharing\n",
        "\n",
        "\n",
        "**Additional Core Concepts**\n",
        "\n",
        "- For-loops and While-loops\n",
        "- Data Structures: dicts (dictionaries) and sets\n",
        "- Additional built-in functions (like `len`) and imports\n",
        "\n",
        "**Tips**\n",
        "\n",
        "- Be patient - it will get easier over time\n",
        "- Practice a lot\n",
        "- Break down problems into smaller pieces\n",
        "- Don't hesitate to Google errors and questions\n",
        "\n",
        "**Resources**\n",
        "\n",
        "- https://realpython.com/\n",
        "- https://learnpythonthehardway.org/\n",
        "- https://wiki.python.org/moin/BeginnersGuide/Programmers\n"
      ],
      "metadata": {
        "id": "1AaFJRGQaKRc"
      }
    },
    {
      "cell_type": "code",
      "source": [],
      "metadata": {
        "id": "S2EGuDQPfasG"
      },
      "execution_count": null,
      "outputs": []
    }
  ]
}